{
 "cells": [
  {
   "cell_type": "code",
   "execution_count": null,
   "metadata": {},
   "outputs": [],
   "source": [
    "import pandas as pd\n",
    "import numpy as np\n",
    "import tensorflow as tf\n",
    "import keras\n",
    "from keras import Model, layers\n",
    "from keras.layers import Conv1D, MaxPooling1D, Conv1DTranspose, UpSampling1D\n",
    "from sklearn.model_selection import train_test_split\n",
    "from sklearn.preprocessing import StandardScaler"
   ]
  },
  {
   "cell_type": "code",
   "execution_count": null,
   "metadata": {},
   "outputs": [],
   "source": [
    "df = pd.read_csv('data/comp-merged.csv')\n",
    "df = df[['value_acc', 'value_met']]\n",
    "scaler = StandardScaler()\n",
    "df = pd.DataFrame(scaler.fit_transform(df), columns=df.columns)"
   ]
  },
  {
   "cell_type": "code",
   "execution_count": null,
   "metadata": {},
   "outputs": [],
   "source": [
    "batch_size = 32\n",
    "epochs = 100\n",
    "window_size = 16\n",
    "\n",
    "def windowed_dataset(data, window_size, batch_size):\n",
    "    \"\"\"\n",
    "    Create a windowed dataset from the input data.\n",
    "\n",
    "    Parameters:\n",
    "    data (np.array): The input data array.\n",
    "    window_size (int): The size of each window.\n",
    "    batch_size (int): The size of each batch.\n",
    "\n",
    "    Returns:\n",
    "    tf.data.Dataset: The windowed dataset.\n",
    "    \"\"\"\n",
    "    dataset = tf.data.Dataset.from_tensor_slices(data)\n",
    "    dataset = dataset.window(window_size + 1, shift=1, drop_remainder=True)\n",
    "    dataset = dataset.flat_map(lambda window: window.batch(window_size + 1))\n",
    "    dataset = dataset.map(lambda window: (window[:-1], window[1:]))\n",
    "    dataset = dataset.shuffle(buffer_size=1000)\n",
    "    dataset = dataset.batch(batch_size).prefetch(1)\n",
    "    return dataset"
   ]
  },
  {
   "cell_type": "code",
   "execution_count": null,
   "metadata": {},
   "outputs": [],
   "source": [
    "# Split the dataframe into train and test sets\n",
    "train, test = train_test_split(df, test_size=0.2, shuffle=False)\n",
    "\n",
    "train_set = windowed_dataset(train, window_size, batch_size)\n",
    "test_set = windowed_dataset(train, window_size, batch_size)"
   ]
  },
  {
   "cell_type": "code",
   "execution_count": null,
   "metadata": {},
   "outputs": [],
   "source": [
    "def build_model():\n",
    "    model = keras.Sequential([\n",
    "        layers.Input(shape=(window_size, 2)),\n",
    "        Conv1D(filters=32, kernel_size=3, padding='same', activation='relu'),\n",
    "        MaxPooling1D(pool_size=2),\n",
    "        Conv1D(filters=64, kernel_size=3, padding='same', activation='relu'),\n",
    "        MaxPooling1D(pool_size=2),\n",
    "        Conv1D(filters=128, kernel_size=3, padding='same', activation='relu'),\n",
    "        MaxPooling1D(pool_size=2),\n",
    "        Conv1DTranspose(filters=128, kernel_size=3, padding='same', activation='relu'),\n",
    "        UpSampling1D(size=2),\n",
    "        Conv1DTranspose(filters=64, kernel_size=3, padding='same', activation='relu'),\n",
    "        UpSampling1D(size=2),\n",
    "        Conv1DTranspose(filters=32, kernel_size=3, padding='same', activation='relu'),\n",
    "        UpSampling1D(size=2),\n",
    "        Conv1DTranspose(filters=2, kernel_size=3, padding='same', activation='relu')\n",
    "    ])\n",
    "    model.compile(optimizer='adam', loss='mse', metrics=['mae'])\n",
    "    return model"
   ]
  },
  {
   "cell_type": "code",
   "execution_count": null,
   "metadata": {},
   "outputs": [],
   "source": [
    "model = build_model()\n",
    "model.summary()"
   ]
  },
  {
   "cell_type": "code",
   "execution_count": null,
   "metadata": {},
   "outputs": [],
   "source": [
    "model.fit(train_set, epochs=epochs, validation_data=test_set)"
   ]
  },
  {
   "cell_type": "code",
   "execution_count": null,
   "metadata": {},
   "outputs": [],
   "source": []
  }
 ],
 "metadata": {
  "kernelspec": {
   "display_name": "thesis",
   "language": "python",
   "name": "python3"
  },
  "language_info": {
   "codemirror_mode": {
    "name": "ipython",
    "version": 3
   },
   "file_extension": ".py",
   "mimetype": "text/x-python",
   "name": "python",
   "nbconvert_exporter": "python",
   "pygments_lexer": "ipython3",
   "version": "3.12.9"
  }
 },
 "nbformat": 4,
 "nbformat_minor": 2
}

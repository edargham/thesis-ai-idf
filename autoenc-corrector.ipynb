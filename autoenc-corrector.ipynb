{
 "cells": [
  {
   "cell_type": "code",
   "execution_count": null,
   "metadata": {},
   "outputs": [],
   "source": [
    "import pandas as pd\n",
    "import numpy as np\n",
    "import tensorflow as tf\n",
    "import keras\n",
    "from keras import Model, layers\n",
    "from keras.layers import Conv1D, MaxPooling1D, Conv1DTranspose, UpSampling1D\n",
    "from sklearn.model_selection import train_test_split\n",
    "from sklearn.preprocessing import StandardScaler\n",
    "import matplotlib.pyplot as plt\n",
    "\n",
    "# Only display tensorflow errors\n",
    "import os\n",
    "os.environ['TF_CPP_MIN_LOG_LEVEL'] = '2'"
   ]
  },
  {
   "cell_type": "code",
   "execution_count": null,
   "metadata": {},
   "outputs": [],
   "source": [
    "df = pd.read_csv('data/comp-merged.csv')\n",
    "df = df[['value_acc', 'value_met']]\n",
    "# scaler = StandardScaler()\n",
    "# df = pd.DataFrame(scaler.fit_transform(df), columns=df.columns)"
   ]
  },
  {
   "cell_type": "code",
   "execution_count": null,
   "metadata": {},
   "outputs": [],
   "source": [
    "plt.figure(figsize=(10, 6))\n",
    "plt.plot(df['value_met'], label='Meteostat')\n",
    "plt.plot(df['value_acc'], label='GPM-IMERG v7')\n",
    "plt.title('IMERG vs Meteostat')\n",
    "plt.xlabel('Index')\n",
    "plt.ylabel('Value')\n",
    "plt.legend()\n",
    "plt.show()"
   ]
  },
  {
   "cell_type": "code",
   "execution_count": null,
   "metadata": {},
   "outputs": [],
   "source": [
    "batch_size = 32\n",
    "epochs = 1000\n",
    "window_size = 16"
   ]
  },
  {
   "cell_type": "code",
   "execution_count": null,
   "metadata": {},
   "outputs": [],
   "source": [
    "def windowed_dataset(data, window_size, batch_size, shuffle=True):\n",
    "    \"\"\"\n",
    "    Create a windowed dataset from the input data.\n",
    "\n",
    "    Parameters:\n",
    "    data (np.array): The input data array.\n",
    "    window_size (int): The size of each window.\n",
    "    batch_size (int): The size of each batch.\n",
    "\n",
    "    Returns:\n",
    "    tf.data.Dataset: The windowed dataset.\n",
    "    \"\"\"\n",
    "    dataset = tf.data.Dataset.from_tensor_slices(data)\n",
    "    dataset = dataset.window(window_size, shift=1, drop_remainder=True)\n",
    "    dataset = dataset.flat_map(lambda window: window.batch(window_size))\n",
    "    dataset = dataset.map(lambda window: (tf.expand_dims(window[:, 0], axis=-1), tf.expand_dims(window[:, 1], axis=-1)))\n",
    "\n",
    "    if shuffle:\n",
    "        dataset = dataset.shuffle(buffer_size=1000)\n",
    "    \n",
    "    dataset = dataset.batch(batch_size).prefetch(1)\n",
    "    return dataset"
   ]
  },
  {
   "cell_type": "code",
   "execution_count": null,
   "metadata": {},
   "outputs": [],
   "source": [
    "def windowed_dataset_single(data, window_size, batch_size):\n",
    "    \"\"\"\n",
    "    Create a windowed dataset from the input data.\n",
    "\n",
    "    Parameters:\n",
    "    data (np.array): The input data array.\n",
    "    window_size (int): The size of each window.\n",
    "    batch_size (int): The size of each batch.\n",
    "\n",
    "    Returns:\n",
    "    tf.data.Dataset: The windowed dataset.\n",
    "    \"\"\"\n",
    "    dataset = tf.data.Dataset.from_tensor_slices(data)\n",
    "    dataset = dataset.window(window_size, shift=window_size, drop_remainder=True)\n",
    "    dataset = dataset.flat_map(lambda window: window.batch(window_size))\n",
    "    dataset = dataset.map(lambda window: tf.expand_dims(window, axis=-1))\n",
    "    dataset = dataset.batch(batch_size).prefetch(1)\n",
    "    return dataset"
   ]
  },
  {
   "cell_type": "code",
   "execution_count": null,
   "metadata": {},
   "outputs": [],
   "source": [
    "# Split the dataframe into train and test sets\n",
    "train, test = train_test_split(df, test_size=0.2, shuffle=False)\n",
    "\n",
    "train_set = windowed_dataset(train, window_size, batch_size, shuffle=False)\n",
    "test_set = windowed_dataset(train, window_size, batch_size, shuffle=False)"
   ]
  },
  {
   "cell_type": "code",
   "execution_count": null,
   "metadata": {},
   "outputs": [],
   "source": [
    "data = windowed_dataset(df, window_size, batch_size, shuffle=False)\n",
    "actuals = [y for x, y in data]\n",
    "actuals = np.concatenate(actuals, axis=0).flatten()\n",
    "\n",
    "print(actuals.shape)\n",
    "print(df['value_met'].shape)\n",
    "\n",
    "plt.figure(figsize=(10, 6))\n",
    "plt.plot(actuals)\n",
    "plt.plot(df['value_met'])\n",
    "plt.title('Actuals vs Meteo')\n",
    "plt.xlabel('Index')\n",
    "plt.ylabel('Value')\n",
    "plt.legend()\n",
    "plt.show()"
   ]
  },
  {
   "cell_type": "code",
   "execution_count": null,
   "metadata": {},
   "outputs": [],
   "source": [
    "def build_model(lr=1e-3):\n",
    "    model = keras.Sequential([\n",
    "        layers.Input(shape=(window_size, 1)),\n",
    "        Conv1D(filters=16, kernel_size=3, padding='same', activation='relu'),\n",
    "        MaxPooling1D(pool_size=2),\n",
    "        Conv1D(filters=32, kernel_size=3, padding='same', activation='relu'),\n",
    "        MaxPooling1D(pool_size=2),\n",
    "        Conv1D(filters=64, kernel_size=3, padding='same', activation='relu'),\n",
    "        MaxPooling1D(pool_size=2),\n",
    "        Conv1D(filters=128, kernel_size=3, padding='same', activation='relu'),\n",
    "        MaxPooling1D(pool_size=2),\n",
    "        Conv1D(filters=128, kernel_size=3, padding='same', activation='relu'),\n",
    "        UpSampling1D(size=2),\n",
    "        Conv1D(filters=64, kernel_size=3, padding='same', activation='relu'),\n",
    "        UpSampling1D(size=2),\n",
    "        Conv1D(filters=32, kernel_size=3, padding='same', activation='relu'),\n",
    "        UpSampling1D(size=2),\n",
    "        Conv1D(filters=16, kernel_size=3, padding='same', activation='relu'),\n",
    "        UpSampling1D(size=2),\n",
    "        Conv1D(filters=1, kernel_size=3, padding='same', activation='relu')\n",
    "    ])\n",
    "\n",
    "    lr_schedule = keras.optimizers.schedules.ExponentialDecay(\n",
    "        initial_learning_rate=lr,\n",
    "        decay_steps=3000,\n",
    "        decay_rate=0.9,\n",
    "        staircase=True\n",
    "    )\n",
    "\n",
    "    model.compile(optimizer=keras.optimizers.Adam(lr_schedule), loss='mse', metrics=['mae'])\n",
    "    return model"
   ]
  },
  {
   "cell_type": "code",
   "execution_count": null,
   "metadata": {},
   "outputs": [],
   "source": [
    "model = build_model()\n",
    "model.summary()"
   ]
  },
  {
   "cell_type": "code",
   "execution_count": null,
   "metadata": {},
   "outputs": [],
   "source": [
    "history = model.fit(\n",
    "  train_set,\n",
    "  epochs=epochs,\n",
    "  validation_data=test_set,\n",
    "  verbose=1,\n",
    "  callbacks=[keras.callbacks.EarlyStopping(patience=20, monitor='val_loss')]\n",
    ")"
   ]
  },
  {
   "cell_type": "code",
   "execution_count": null,
   "metadata": {},
   "outputs": [],
   "source": [
    "# Plot the loss and accuracy\n",
    "plt.plot(history.history['loss'])\n",
    "plt.plot(history.history['val_loss'])\n",
    "plt.title('Model Loss')\n",
    "plt.ylabel('Loss')\n",
    "plt.xlabel('Epoch')\n",
    "plt.legend(['Train', 'Test'], loc='upper left')\n",
    "plt.show()"
   ]
  },
  {
   "cell_type": "code",
   "execution_count": null,
   "metadata": {},
   "outputs": [],
   "source": [
    "# Make predictions on the test set\n",
    "predictions = model.predict(test_set)\n",
    "\n",
    "# Extract the actual values from the test set\n",
    "actuals = np.concatenate([y for x, y in test_set], axis=0)\n",
    "\n",
    "\n",
    "print(predictions.shape)\n",
    "print(actuals.shape)\n",
    "\n",
    "# Flatten the predictions and actuals\n",
    "predictions = predictions.flatten()\n",
    "actuals = actuals.flatten()\n",
    "\n",
    "# # Inverse transform the predictions and actuals\n",
    "# predictions = scaler.inverse_transform(predictions.reshape(-1, 2)).flatten()\n",
    "# actuals = scaler.inverse_transform(actuals.reshape(-1, 2)).flatten()\n",
    "\n",
    "# Plot the predicted vs actual outputs\n",
    "plt.figure(figsize=(10, 6))\n",
    "plt.plot(actuals, label='Actual')\n",
    "plt.plot(predictions, label='Predicted')\n",
    "plt.title('Predicted vs Actual Outputs')\n",
    "plt.xlabel('Time Step')\n",
    "plt.ylabel('Value')\n",
    "plt.legend()\n",
    "plt.show()"
   ]
  },
  {
   "cell_type": "code",
   "execution_count": null,
   "metadata": {},
   "outputs": [],
   "source": [
    "model.save_weights('corrector-ae.weights.h5')"
   ]
  },
  {
   "cell_type": "code",
   "execution_count": null,
   "metadata": {},
   "outputs": [],
   "source": [
    "# Load the 'beirut-daily-precipitation.csv' file\n",
    "beirut_df = pd.read_csv('data/beirut-daily-precipitation.csv')\n",
    "\n",
    "# Create a windowed dataset from df['value'] without shuffling\n",
    "beirut_values = beirut_df['value'].values\n",
    "beirut_dataset = windowed_dataset_single(beirut_values, window_size, batch_size)\n",
    "\n",
    "# Pass the windowed dataset to the model for inference\n",
    "predictions = model.predict(beirut_dataset)\n",
    "\n",
    "# Unwrap the windows\n",
    "corrected_values = predictions.flatten()\n",
    "\n",
    "# corrected_values = scaler.inverse_transform(corrected_values.reshape(-1, 2)).flatten()\n",
    "print(len(corrected_values))\n",
    "print(len(beirut_df))\n",
    "\n",
    "# Save the outputs to 'beirut-daily-corrected.csv'\n",
    "beirut_df = beirut_df[:len(corrected_values)]\n",
    "beirut_df['value'] = corrected_values\n",
    "beirut_df.to_csv('data/beirut-daily-corrected.csv', index=False)"
   ]
  },
  {
   "cell_type": "code",
   "execution_count": null,
   "metadata": {},
   "outputs": [],
   "source": []
  }
 ],
 "metadata": {
  "kernelspec": {
   "display_name": "thesis",
   "language": "python",
   "name": "python3"
  },
  "language_info": {
   "codemirror_mode": {
    "name": "ipython",
    "version": 3
   },
   "file_extension": ".py",
   "mimetype": "text/x-python",
   "name": "python",
   "nbconvert_exporter": "python",
   "pygments_lexer": "ipython3",
   "version": "3.12.9"
  }
 },
 "nbformat": 4,
 "nbformat_minor": 2
}

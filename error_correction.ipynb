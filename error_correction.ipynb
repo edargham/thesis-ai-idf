{
 "cells": [
  {
   "cell_type": "code",
   "execution_count": 14,
   "metadata": {},
   "outputs": [],
   "source": [
    "import pandas as pd\n",
    "import numpy as np\n",
    "from sklearn.model_selection import train_test_split\n",
    "from sklearn.preprocessing import StandardScaler\n",
    "from sklearn.metrics import root_mean_squared_error as RMSE\n",
    "from sklearn.metrics import mean_squared_error as MSE\n",
    "from sklearn.metrics import mean_absolute_error as MAE\n",
    "from sklearn.svm import SVR\n",
    "from sklearn.model_selection import GridSearchCV\n",
    "import xgboost as xgb\n",
    "from sklearn.ensemble import RandomForestRegressor"
   ]
  },
  {
   "cell_type": "code",
   "execution_count": 15,
   "metadata": {},
   "outputs": [
    {
     "data": {
      "application/vnd.microsoft.datawrangler.viewer.v0+json": {
       "columns": [
        {
         "name": "index",
         "rawType": "int64",
         "type": "integer"
        },
        {
         "name": "value_acc",
         "rawType": "float64",
         "type": "float"
        },
        {
         "name": "value_met",
         "rawType": "float64",
         "type": "float"
        },
        {
         "name": "bias_coef",
         "rawType": "float64",
         "type": "float"
        }
       ],
       "conversionMethod": "pd.DataFrame",
       "ref": "4eaa321c-ed76-4b99-be87-931668aa257c",
       "rows": [
        [
         "0",
         "0.0",
         "4.1",
         "0.0"
        ],
        [
         "1",
         "43.959998244419694",
         "16.0",
         "1.7640624389168806"
         "2.7474827185092403"
        ],
        [
         "2",
         "44.06999891996384",
         "52.169998586177826",
         "37.1",
         "1.1878705908346048"
         "1.4061956325233036"
        ],
        [
         "3",
         "0.9199999794363976",
         "1.2599999755620956",
         "5.1",
         "0.1803921528306662"
         "0.2470539745420865"
        ],
        [
         "4",
         "24.969999328255653",
         "30.479999020695686",
         "17.0",
         "1.7929305722140274"
        ]
       ],
       "shape": {
        "columns": 3,
        "rows": 5
       }
      },
      "text/html": [
       "<div>\n",
       "<style scoped>\n",
       "    .dataframe tbody tr th:only-of-type {\n",
       "        vertical-align: middle;\n",
       "    }\n",
       "\n",
       "    .dataframe tbody tr th {\n",
       "        vertical-align: top;\n",
       "    }\n",
       "\n",
       "    .dataframe thead th {\n",
       "        text-align: right;\n",
       "    }\n",
       "</style>\n",
       "<table border=\"1\" class=\"dataframe\">\n",
       "  <thead>\n",
       "    <tr style=\"text-align: right;\">\n",
       "      <th></th>\n",
       "      <th>value_acc</th>\n",
       "      <th>value_met</th>\n",
       "      <th>bias_coef</th>\n",
       "    </tr>\n",
       "  </thead>\n",
       "  <tbody>\n",
       "    <tr>\n",
       "      <th>0</th>\n",
       "      <td>0.000000</td>\n",
       "      <td>4.1</td>\n",
       "      <td>0.000000</td>\n",
       "    </tr>\n",
       "    <tr>\n",
       "      <th>1</th>\n",
       "      <td>43.959998</td>\n",
       "      <td>16.0</td>\n",
       "      <td>1.764062</td>\n",
       "      <td>2.747483</td>\n",
       "    </tr>\n",
       "    <tr>\n",
       "      <th>2</th>\n",
       "      <td>44.069999</td>\n",
       "      <td>52.169999</td>\n",
       "      <td>37.1</td>\n",
       "      <td>1.187871</td>\n",
       "      <td>1.406196</td>\n",
       "    </tr>\n",
       "    <tr>\n",
       "      <th>3</th>\n",
       "      <td>0.920000</td>\n",
       "      <td>1.260000</td>\n",
       "      <td>5.1</td>\n",
       "      <td>0.180392</td>\n",
       "      <td>0.247054</td>\n",
       "    </tr>\n",
       "    <tr>\n",
       "      <th>4</th>\n",
       "      <td>24.969999</td>\n",
       "      <td>30.479999</td>\n",
       "      <td>17.0</td>\n",
       "      <td>1.792931</td>\n",
       "    </tr>\n",
       "  </tbody>\n",
       "</table>\n",
       "</div>"
      ],
      "text/plain": [
       "   value_acc  value_met  bias_coef\n",
       "0   0.000000        4.1   0.000000\n",
       "1  43.959998       16.0   2.747483\n",
       "2  52.169999       37.1   1.406196\n",
       "3   1.260000        5.1   0.247054\n",
       "4  30.479999       17.0   1.792931"
      ]
     },
     "execution_count": 15,
     "metadata": {},
     "output_type": "execute_result"
    }
   ],
   "source": [
    "df = pd.read_csv('data/comp-merged.csv')\n",
    "df.drop(columns=['date', 'diff'], axis=1, inplace=True)\n",
    "df.head()"
   ]
  },
  {
   "cell_type": "code",
   "execution_count": 16,
   "metadata": {},
   "outputs": [],
   "source": [
    "X = df.drop(columns=['value_met'], axis=1)\n",
    "y = df['value_met']"
   ]
  },
  {
   "cell_type": "code",
   "execution_count": 17,
   "metadata": {},
   "outputs": [],
   "source": [
    "X_train, X_test, y_train, y_test = train_test_split(X, y, test_size=0.2, random_state=32, shuffle=False)#, random_state=42)"
   ]
  },
  {
   "cell_type": "code",
   "execution_count": 18,
   "metadata": {},
   "outputs": [],
   "source": [
    "# scaler = StandardScaler()\n",
    "# X_train = scaler.fit_transform(X_train)\n",
    "# X_test = scaler.transform(X_test)"
   ]
  },
  {
   "cell_type": "code",
   "execution_count": 19,
   "metadata": {},
   "outputs": [
    {
     "name": "stdout",
     "output_type": "stream",
     "text": [
      "Fitting 5 folds for each of 16 candidates, totalling 80 fits\n",
      "{'C': 100, 'gamma': 1, 'kernel': 'rbf'}\n",
      "0.37634196035739925\n"
     ]
    }
   ],
   "source": [
    "svr_params = {\n",
    "    'C': [0.1, 1, 10, 100],\n",
    "    'gamma': [1, 0.1, 0.01, 0.001],\n",
    "    'kernel': ['rbf']\n",
    "}\n",
    "\n",
    "tuned_svr = GridSearchCV(SVR(), svr_params, cv=5, n_jobs=-1, verbose=1)\n",
    "tuned_svr.fit(X_train, y_train)\n",
    "\n",
    "print(tuned_svr.best_params_)\n",
    "print(tuned_svr.best_score_)"
   ]
  },
  {
   "cell_type": "code",
   "execution_count": 7,
   "execution_count": 20,
   "metadata": {},
   "outputs": [
    {
     "name": "stdout",
     "output_type": "stream",
     "text": [
      "RMSE: 5.001801857935429\n",
      "MSE: 25.018021826046308\n",
      "MAE: 1.6874208625085345\n"
     ]
    }
   ],
   "source": [
    "model = tuned_svr.best_estimator_\n",
    "y_pred = model.predict(X_test)\n",
    "print(f'RMSE: {RMSE(y_test, y_pred)}')\n",
    "print(f'MSE: {MSE(y_test, y_pred)}')\n",
    "print(f'MAE: {MAE(y_test, y_pred)}')"
   ]
  },
  {
   "cell_type": "code",
   "execution_count": 21,
   "metadata": {},
   "outputs": [
    {
     "name": "stdout",
     "output_type": "stream",
     "text": [
      "Fitting 5 folds for each of 48 candidates, totalling 240 fits\n",
      "{'learning_rate': 0.1, 'max_depth': 3, 'n_estimators': 1000}\n",
      "0.924949813115948\n"
     ]
    }
   ],
   "source": [
    "xgb_params = {\n",
    "    'n_estimators': [100, 500, 1000],\n",
    "    'max_depth': [3, 5, 7, 9],\n",
    "    'learning_rate': [0.01, 0.1, 0.3, 0.5]\n",
    "}\n",
    "\n",
    "tuned_xgb = GridSearchCV(xgb.XGBRegressor(), xgb_params, cv=5, n_jobs=-1, verbose=1)\n",
    "tuned_xgb.fit(X_train, y_train)\n",
    "\n",
    "print(tuned_xgb.best_params_)\n",
    "print(tuned_xgb.best_score_)"
   ]
  },
  {
   "cell_type": "code",
   "execution_count": 22,
   "metadata": {},
   "outputs": [
    {
     "name": "stdout",
     "output_type": "stream",
     "text": [
      "RMSE: 1.250642291114471\n",
      "MSE: 1.5641061403240535\n",
      "MAE: 0.5354736954150942\n"
     ]
    }
   ],
   "source": [
    "model = tuned_xgb.best_estimator_\n",
    "y_pred = model.predict(X_test)\n",
    "print(f'RMSE: {RMSE(y_test, y_pred)}')\n",
    "print(f'MSE: {MSE(y_test, y_pred)}')\n",
    "print(f'MAE: {MAE(y_test, y_pred)}')"
   ]
  },
  {
   "cell_type": "code",
   "execution_count": 23,
   "metadata": {},
   "outputs": [
    {
     "name": "stdout",
     "output_type": "stream",
     "text": [
      "Fitting 5 folds for each of 36 candidates, totalling 180 fits\n",
      "{'max_depth': 9, 'min_samples_split': 2, 'n_estimators': 500}\n",
      "0.9118993514784763\n"
     ]
    }
   ],
   "source": [
    "rfr_params = {\n",
    "    'n_estimators': [100, 500, 1000],\n",
    "    'max_depth': [3, 5, 7, 9],\n",
    "    'min_samples_split': [2, 5, 10],\n",
    "    'random_state': [32]\n",
    "}\n",
    "tuned_rfr = GridSearchCV(RandomForestRegressor(), rfr_params, cv=5, n_jobs=-1, verbose=1)\n",
    "tuned_rfr.fit(X_train, y_train)\n",
    "\n",
    "print(tuned_rfr.best_params_)\n",
    "print(tuned_rfr.best_score_)"
   ]
  },
  {
   "cell_type": "code",
   "execution_count": 24,
   "metadata": {},
   "outputs": [
    {
     "name": "stdout",
     "output_type": "stream",
     "text": [
      "RMSE: 1.1747139760745522\n",
      "MSE: 1.3799529255848835\n",
      "MAE: 0.4698378506559924\n"
     ]
    }
   ],
   "source": [
    "model = tuned_rfr.best_estimator_\n",
    "y_pred = model.predict(X_test)\n",
    "print(f'RMSE: {RMSE(y_test, y_pred)}')\n",
    "print(f'MSE: {MSE(y_test, y_pred)}')\n",
    "print(f'MAE: {MAE(y_test, y_pred)}')"
   ]
  },
  {
   "cell_type": "code",
   "execution_count": 12,
   "metadata": {},
   "outputs": [
    {
     "name": "stdout",
     "output_type": "stream",
     "text": [
      "RMSE test: 2.544670754867214\n",
      "MSE test: 6.475349250676477\n",
      "MAE test: 1.785592433308324\n",
      "RMSE train: 2.755954238425787\n",
      "MSE train: 7.59528376429706\n",
      "MAE train: 0.9939307108990613\n"
     ]
    }
   ],
   "source": [
    "model = tuned_xgb.best_estimator_\n",
    "y_pred_test = model.predict(X_test)\n",
    "y_pred_train = model.predict(X_train)\n",
    "print(f'RMSE test: {RMSE(y_test, y_pred_test)}')\n",
    "print(f'MSE test: {MSE(y_test, y_pred_test)}') \n",
    "print(f'MAE test: {MAE(y_test, y_pred_test)}')\n",
    "print(f'RMSE train: {RMSE(y_train, y_pred_train)}')\n",
    "print(f'MSE train: {MSE(y_train, y_pred_train)}')\n",
    "print(f'MAE train: {MAE(y_train, y_pred_train)}')"
   ]
  },
  {
   "cell_type": "code",
   "execution_count": 13,
   "metadata": {},
   "outputs": [
    {
     "name": "stdout",
     "output_type": "stream",
     "text": [
      "RMSE all: 2.7149637736340457\n",
      "MSE all: 7.371028292145217\n",
      "MAE all: 1.1524529023167434\n"
     ]
    }
   ],
   "source": [
    "y_pred = np.concatenate((y_pred_train, y_pred_test))\n",
    "y_true = np.concatenate((y_train, y_test))\n",
    "print(f'RMSE all: {RMSE(y_true, y_pred)}')\n",
    "print(f'MSE all: {MSE(y_true, y_pred)}')\n",
    "print(f'MAE all: {MAE(y_true, y_pred)}')"
   ]
  },
  {
   "cell_type": "code",
   "execution_count": 14,
   "metadata": {},
   "outputs": [],
   "source": [
    "pd.DataFrame({'Meteostat': y_true, 'Corrected': y_pred}).to_csv('data/beirut-daily-corrected.csv', index=False)"
   ]
  }
 ],
 "metadata": {
  "kernelspec": {
   "display_name": "thesis",
   "language": "python",
   "name": "python3"
  },
  "language_info": {
   "codemirror_mode": {
    "name": "ipython",
    "version": 3
   },
   "file_extension": ".py",
   "mimetype": "text/x-python",
   "name": "python",
   "nbconvert_exporter": "python",
   "pygments_lexer": "ipython3",
   "version": "3.12.9"
  }
 },
 "nbformat": 4,
 "nbformat_minor": 2
}

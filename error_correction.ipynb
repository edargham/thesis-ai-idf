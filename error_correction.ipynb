{
 "cells": [
  {
   "cell_type": "code",
   "execution_count": 1,
   "metadata": {},
   "outputs": [],
   "source": [
    "import pandas as pd\n",
    "import numpy as np\n",
    "from sklearn.model_selection import train_test_split\n",
    "from sklearn.preprocessing import StandardScaler\n",
    "from sklearn.metrics import root_mean_squared_error as RMSE\n",
    "from sklearn.metrics import mean_squared_error as MSE\n",
    "from sklearn.metrics import mean_absolute_error as MAE\n",
    "from sklearn.svm import SVR\n",
    "from sklearn.model_selection import GridSearchCV\n",
    "import xgboost as xgb\n",
    "from sklearn.ensemble import RandomForestRegressor"
   ]
  },
  {
   "cell_type": "code",
   "execution_count": 2,
   "metadata": {},
   "outputs": [
    {
     "data": {
      "application/vnd.microsoft.datawrangler.viewer.v0+json": {
       "columns": [
        {
         "name": "index",
         "rawType": "int64",
         "type": "integer"
        },
        {
         "name": "value_acc",
         "rawType": "float64",
         "type": "float"
        },
        {
         "name": "value_met",
         "rawType": "float64",
         "type": "float"
        },
        {
         "name": "bias_coef",
         "rawType": "float64",
         "type": "float"
        }
       ],
       "conversionMethod": "pd.DataFrame",
       "ref": "ea16260b-14d8-4bf4-a849-a69d07120f12",
       "rows": [
        [
         "0",
         "0.0",
         "4.1",
         "0.0"
        ],
        [
         "1",
         "28.22499902267009",
         "16.0",
         "1.7640514135955456"
        ],
        [
         "2",
         "44.06999891996384",
         "37.1",
         "1.1878673890357123"
        ],
        [
         "3",
         "0.9199999794363976",
         "5.1",
         "0.1803886157989838"
        ],
        [
         "4",
         "24.969999328255653",
         "17.0",
         "1.4688148498100395"
        ]
       ],
       "shape": {
        "columns": 3,
        "rows": 5
       }
      },
      "text/html": [
       "<div>\n",
       "<style scoped>\n",
       "    .dataframe tbody tr th:only-of-type {\n",
       "        vertical-align: middle;\n",
       "    }\n",
       "\n",
       "    .dataframe tbody tr th {\n",
       "        vertical-align: top;\n",
       "    }\n",
       "\n",
       "    .dataframe thead th {\n",
       "        text-align: right;\n",
       "    }\n",
       "</style>\n",
       "<table border=\"1\" class=\"dataframe\">\n",
       "  <thead>\n",
       "    <tr style=\"text-align: right;\">\n",
       "      <th></th>\n",
       "      <th>value_acc</th>\n",
       "      <th>value_met</th>\n",
       "      <th>bias_coef</th>\n",
       "    </tr>\n",
       "  </thead>\n",
       "  <tbody>\n",
       "    <tr>\n",
       "      <th>0</th>\n",
       "      <td>0.000000</td>\n",
       "      <td>4.1</td>\n",
       "      <td>0.000000</td>\n",
       "    </tr>\n",
       "    <tr>\n",
       "      <th>1</th>\n",
       "      <td>28.224999</td>\n",
       "      <td>16.0</td>\n",
       "      <td>1.764051</td>\n",
       "    </tr>\n",
       "    <tr>\n",
       "      <th>2</th>\n",
       "      <td>44.069999</td>\n",
       "      <td>37.1</td>\n",
       "      <td>1.187867</td>\n",
       "    </tr>\n",
       "    <tr>\n",
       "      <th>3</th>\n",
       "      <td>0.920000</td>\n",
       "      <td>5.1</td>\n",
       "      <td>0.180389</td>\n",
       "    </tr>\n",
       "    <tr>\n",
       "      <th>4</th>\n",
       "      <td>24.969999</td>\n",
       "      <td>17.0</td>\n",
       "      <td>1.468815</td>\n",
       "    </tr>\n",
       "  </tbody>\n",
       "</table>\n",
       "</div>"
      ],
      "text/plain": [
       "   value_acc  value_met  bias_coef\n",
       "0   0.000000        4.1   0.000000\n",
       "1  28.224999       16.0   1.764051\n",
       "2  44.069999       37.1   1.187867\n",
       "3   0.920000        5.1   0.180389\n",
       "4  24.969999       17.0   1.468815"
      ]
     },
     "execution_count": 2,
     "metadata": {},
     "output_type": "execute_result"
    }
   ],
   "source": [
    "df = pd.read_csv('data/comp-merged.csv')\n",
    "dates = df['date']\n",
    "df.drop(columns=['date', 'diff'], axis=1, inplace=True)\n",
    "df.head()"
   ]
  },
  {
   "cell_type": "code",
   "execution_count": 3,
   "metadata": {},
   "outputs": [],
   "source": [
    "X = df.drop(columns=['value_met'], axis=1)\n",
    "y = df['value_met']"
   ]
  },
  {
   "cell_type": "code",
   "execution_count": 4,
   "metadata": {},
   "outputs": [],
   "source": [
    "X_train, X_test, y_train, y_test = train_test_split(X, y, test_size=0.2, random_state=32, shuffle=False)#, random_state=42)"
   ]
  },
  {
   "cell_type": "code",
   "execution_count": 5,
   "metadata": {},
   "outputs": [],
   "source": [
    "# scaler = StandardScaler()\n",
    "# X_train = scaler.fit_transform(X_train)\n",
    "# X_test = scaler.transform(X_test)"
   ]
  },
  {
   "cell_type": "code",
   "execution_count": 6,
   "metadata": {},
   "outputs": [
    {
     "name": "stdout",
     "output_type": "stream",
     "text": [
      "Fitting 5 folds for each of 16 candidates, totalling 80 fits\n",
      "{'C': 100, 'gamma': 0.1, 'kernel': 'rbf'}\n",
      "0.6449257540534313\n"
     ]
    }
   ],
   "source": [
    "svr_params = {\n",
    "    'C': [0.1, 1, 10, 100],\n",
    "    'gamma': [1, 0.1, 0.01, 0.001],\n",
    "    'kernel': ['rbf']\n",
    "}\n",
    "\n",
    "tuned_svr = GridSearchCV(SVR(), svr_params, cv=5, n_jobs=-1, verbose=1)\n",
    "tuned_svr.fit(X_train, y_train)\n",
    "\n",
    "print(tuned_svr.best_params_)\n",
    "print(tuned_svr.best_score_)"
   ]
  },
  {
   "cell_type": "code",
   "execution_count": 7,
   "metadata": {},
   "outputs": [
    {
     "name": "stdout",
     "output_type": "stream",
     "text": [
      "RMSE: 3.5800020178046705\n",
      "MSE: 12.816414447485512\n",
      "MAE: 0.9320271764911287\n"
     ]
    }
   ],
   "source": [
    "model = tuned_svr.best_estimator_\n",
    "y_pred = model.predict(X_test)\n",
    "print(f'RMSE: {RMSE(y_test, y_pred)}')\n",
    "print(f'MSE: {MSE(y_test, y_pred)}')\n",
    "print(f'MAE: {MAE(y_test, y_pred)}')"
   ]
  },
  {
   "cell_type": "code",
   "execution_count": 8,
   "metadata": {},
   "outputs": [
    {
     "name": "stdout",
     "output_type": "stream",
     "text": [
      "Fitting 5 folds for each of 48 candidates, totalling 240 fits\n",
      "{'learning_rate': 0.3, 'max_depth': 3, 'n_estimators': 1000}\n",
      "0.9034978791992863\n"
     ]
    }
   ],
   "source": [
    "xgb_params = {\n",
    "    'n_estimators': [100, 500, 1000],\n",
    "    'max_depth': [3, 5, 7, 9],\n",
    "    'learning_rate': [0.01, 0.1, 0.3, 0.5]\n",
    "}\n",
    "\n",
    "tuned_xgb = GridSearchCV(xgb.XGBRegressor(), xgb_params, cv=5, n_jobs=-1, verbose=1)\n",
    "tuned_xgb.fit(X_train, y_train)\n",
    "\n",
    "print(tuned_xgb.best_params_)\n",
    "print(tuned_xgb.best_score_)"
   ]
  },
  {
   "cell_type": "code",
   "execution_count": 9,
   "metadata": {},
   "outputs": [
    {
     "name": "stdout",
     "output_type": "stream",
     "text": [
      "RMSE: 1.5142441615902171\n",
      "MSE: 2.2929353809100594\n",
      "MAE: 0.519724871923\n"
     ]
    }
   ],
   "source": [
    "model = tuned_xgb.best_estimator_\n",
    "y_pred = model.predict(X_test)\n",
    "print(f'RMSE: {RMSE(y_test, y_pred)}')\n",
    "print(f'MSE: {MSE(y_test, y_pred)}')\n",
    "print(f'MAE: {MAE(y_test, y_pred)}')"
   ]
  },
  {
   "cell_type": "code",
   "execution_count": 10,
   "metadata": {},
   "outputs": [
    {
     "name": "stdout",
     "output_type": "stream",
     "text": [
      "Fitting 5 folds for each of 36 candidates, totalling 180 fits\n",
      "{'max_depth': 9, 'min_samples_split': 2, 'n_estimators': 1000, 'random_state': 32}\n",
      "0.8810183012918638\n"
     ]
    }
   ],
   "source": [
    "rfr_params = {\n",
    "    'n_estimators': [100, 500, 1000],\n",
    "    'max_depth': [3, 5, 7, 9],\n",
    "    'min_samples_split': [2, 5, 10],\n",
    "    'random_state': [32]\n",
    "}\n",
    "tuned_rfr = GridSearchCV(RandomForestRegressor(), rfr_params, cv=5, n_jobs=-1, verbose=1)\n",
    "tuned_rfr.fit(X_train, y_train)\n",
    "\n",
    "print(tuned_rfr.best_params_)\n",
    "print(tuned_rfr.best_score_)"
   ]
  },
  {
   "cell_type": "code",
   "execution_count": 11,
   "metadata": {},
   "outputs": [
    {
     "name": "stdout",
     "output_type": "stream",
     "text": [
      "RMSE: 1.8419998727000533\n",
      "MSE: 3.3929635310270125\n",
      "MAE: 0.5414818194976724\n"
     ]
    }
   ],
   "source": [
    "model = tuned_rfr.best_estimator_\n",
    "y_pred = model.predict(X_test)\n",
    "print(f'RMSE: {RMSE(y_test, y_pred)}')\n",
    "print(f'MSE: {MSE(y_test, y_pred)}')\n",
    "print(f'MAE: {MAE(y_test, y_pred)}')"
   ]
  },
  {
   "cell_type": "code",
   "execution_count": 12,
   "metadata": {},
   "outputs": [
    {
     "name": "stdout",
     "output_type": "stream",
     "text": [
      "RMSE test: 1.5142441615902171\n",
      "MSE test: 2.2929353809100594\n",
      "MAE test: 0.519724871923\n",
      "RMSE train: 1.5452234338830801\n",
      "MSE train: 2.3877154606214175\n",
      "MAE train: 0.3921217625524016\n"
     ]
    }
   ],
   "source": [
    "model = tuned_xgb.best_estimator_\n",
    "y_pred_test = model.predict(X_test)\n",
    "y_pred_train = model.predict(X_train)\n",
    "print(f'RMSE test: {RMSE(y_test, y_pred_test)}')\n",
    "print(f'MSE test: {MSE(y_test, y_pred_test)}') \n",
    "print(f'MAE test: {MAE(y_test, y_pred_test)}')\n",
    "print(f'RMSE train: {RMSE(y_train, y_pred_train)}')\n",
    "print(f'MSE train: {MSE(y_train, y_pred_train)}')\n",
    "print(f'MAE train: {MAE(y_train, y_pred_train)}')"
   ]
  },
  {
   "cell_type": "code",
   "execution_count": 13,
   "metadata": {},
   "outputs": [
    {
     "name": "stdout",
     "output_type": "stream",
     "text": [
      "RMSE all: 1.539071784414089\n",
      "MSE all: 2.368741957579568\n",
      "MAE all: 0.41766592743563025\n"
     ]
    }
   ],
   "source": [
    "y_pred = np.concatenate((y_pred_train, y_pred_test))\n",
    "y_true = np.concatenate((y_train, y_test))\n",
    "print(f'RMSE all: {RMSE(y_true, y_pred)}')\n",
    "print(f'MSE all: {MSE(y_true, y_pred)}')\n",
    "print(f'MAE all: {MAE(y_true, y_pred)}')"
   ]
  },
  {
   "cell_type": "code",
   "execution_count": 14,
   "metadata": {},
   "outputs": [],
   "source": [
    "pd.DataFrame({'date': dates, 'value': y_pred}).to_csv('data/beirut-daily-corrected.csv', index=False)"
   ]
  },
  {
   "cell_type": "code",
   "execution_count": 15,
   "metadata": {},
   "outputs": [],
   "source": [
    "pd.DataFrame({'date': dates, 'value_acc_new': y_pred, 'value_met': y_true}).to_csv('data/beirut-daily-comp.csv', index=False)"
   ]
  },
  {
   "cell_type": "code",
   "execution_count": null,
   "metadata": {},
   "outputs": [],
   "source": []
  }
 ],
 "metadata": {
  "kernelspec": {
   "display_name": "thesis",
   "language": "python",
   "name": "python3"
  },
  "language_info": {
   "codemirror_mode": {
    "name": "ipython",
    "version": 3
   },
   "file_extension": ".py",
   "mimetype": "text/x-python",
   "name": "python",
   "nbconvert_exporter": "python",
   "pygments_lexer": "ipython3",
   "version": "3.12.9"
  }
 },
 "nbformat": 4,
 "nbformat_minor": 2
}
